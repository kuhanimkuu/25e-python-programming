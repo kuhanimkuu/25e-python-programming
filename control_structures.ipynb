{
 "cells": [
  {
   "cell_type": "code",
   "execution_count": null,
   "id": "b2734996",
   "metadata": {},
   "outputs": [],
   "source": [
    "'''\n",
    "if condition:\n",
    "    statement\n",
    "'''\n",
    "age = 23\n",
    "if age>=18:\n",
    "    print(\"Please proceed to vote\")"
   ]
  },
  {
   "cell_type": "code",
   "execution_count": null,
   "id": "98c764fe",
   "metadata": {},
   "outputs": [],
   "source": [
    "age = 13\n",
    "if age>=18:\n",
    "    print(\"Please proceed to vote\")"
   ]
  },
  {
   "cell_type": "code",
   "execution_count": null,
   "id": "29ef1431",
   "metadata": {},
   "outputs": [],
   "source": [
    "# if-else allows us to specify a block of code that will execute if the condition is evaluated false\n",
    "age = 14\n",
    "if age>= 18:\n",
    "    print(\"Proceed to vote\")\n",
    "else:\n",
    "    print(\"Too young to vote\")"
   ]
  },
  {
   "cell_type": "code",
   "execution_count": null,
   "id": "4481b6e2",
   "metadata": {},
   "outputs": [],
   "source": [
    "# elif allows us to check multiple statements\n",
    "age = 19\n",
    "if age<=12:\n",
    "    print(\"Children\")\n",
    "elif age< 20:\n",
    "    print(\"teenager\")\n",
    "else:\n",
    "    print(\"Adult\")"
   ]
  },
  {
   "cell_type": "code",
   "execution_count": 4,
   "id": "6df2227a",
   "metadata": {},
   "outputs": [
    {
     "name": "stdout",
     "output_type": "stream",
     "text": [
      "Too young to vote\n"
     ]
    }
   ],
   "source": [
    "# nested if statement\n",
    "age = 16\n",
    "is_registered = False\n",
    "if age>=18:\n",
    "    if is_registered:\n",
    "        print(\"Proceed to vote\")\n",
    "    else:\n",
    "        print(\"Please go register\")\n",
    "else:\n",
    "    print(\"Too young to vote\")"
   ]
  },
  {
   "cell_type": "code",
   "execution_count": null,
   "id": "0b3bab02",
   "metadata": {},
   "outputs": [],
   "source": [
    "# using try and except clauses\n",
    "age =  (input(\"Please enter your age here: \"))\n",
    "try:\n",
    "    input_age=int(age)\n",
    "except:\n",
    "    input_age=-1\n",
    "    if input_age<0:\n",
    "        input(\"You have not input a valid age\")\n",
    "        print(age)"
   ]
  },
  {
   "cell_type": "markdown",
   "id": "4667b9bf",
   "metadata": {},
   "source": [
    "While loops"
   ]
  },
  {
   "cell_type": "code",
   "execution_count": null,
   "id": "369c34d5",
   "metadata": {},
   "outputs": [],
   "source": [
    "count = 5"
   ]
  },
  {
   "cell_type": "code",
   "execution_count": null,
   "id": "f0d7d1bf",
   "metadata": {},
   "outputs": [
    {
     "name": "stdout",
     "output_type": "stream",
     "text": [
      "wrong operator\n"
     ]
    }
   ],
   "source": [
    "\n",
    "\n",
    "try:\n",
    "    num_1 = int(input(\"Enter first number: \"))\n",
    "    num_2 = int(input(\"Enter second number: \"))\n",
    "except:\n",
    "    input(\"enter correct integer\")\n",
    "operator = input(\"Enter operator Nb: either + or -: \")\n",
    "if operator == \"+\":\n",
    "    sum = num_1+num_2\n",
    "    print(sum)\n",
    "    \n",
    "elif operator == \"-\":\n",
    "    sub = num_1-num_2\n",
    "    print(sub)\n",
    "else:\n",
    "    print(\"wrong operator\")\n"
   ]
  },
  {
   "cell_type": "code",
   "execution_count": 5,
   "id": "5747e4c0",
   "metadata": {},
   "outputs": [
    {
     "name": "stdout",
     "output_type": "stream",
     "text": [
      "3\n"
     ]
    }
   ],
   "source": [
    "num_1 = int(input(\"Enter first number: \"))\n",
    "num_2 = int(input(\"Enter second number: \"))\n",
    "if type(num_1) or type(num_2) != int:\n",
    "    input(\"enter proper value\")\n",
    "else:\n",
    "    operator = input(\"Enter operator Nb: either + or -: \")\n",
    "if operator == \"+\":\n",
    "    sum = num_1+num_2\n",
    "    print(sum)\n",
    "    \n",
    "elif operator == \"-\":\n",
    "    sub = num_1-num_2\n",
    "    print(sub)\n",
    "else:\n",
    "    print(\"wrong operator\")\n"
   ]
  },
  {
   "cell_type": "code",
   "execution_count": null,
   "id": "6c0b8158",
   "metadata": {},
   "outputs": [],
   "source": [
    "age =  (input(\"Please enter your age here: \"))\n",
    "try:\n",
    "    input_age=int(age)\n",
    "except:\n",
    "    input_age=-1\n",
    "    if input_age<0:\n",
    "        input(\"You have not input a valid age\")\n",
    "        print(age)"
   ]
  },
  {
   "cell_type": "code",
   "execution_count": 9,
   "id": "cf9cdc0a",
   "metadata": {},
   "outputs": [
    {
     "name": "stdout",
     "output_type": "stream",
     "text": [
      "Your guess was lower\n",
      "2 remaining\n",
      "Your guess was lower\n",
      "1 remaining\n",
      "Your guess was lower\n",
      "0 remaining\n",
      "Out of attepmts pay for more attempts\n"
     ]
    }
   ],
   "source": [
    "import random\n",
    "random_no = random.randint(1,100)\n",
    "attempts = 3\n",
    "while attempts > -1:\n",
    "    attempts-=1\n",
    "    guess = int(input(\"Enter a random number between 1 and 100: \"))\n",
    "    if guess == random_no:\n",
    "        print(f\"You guessed it {random_no}\")\n",
    "        print(\"Congratulations\")\n",
    "        break\n",
    "    elif guess > random_no:\n",
    "        print(\"Your guess was higher\")\n",
    "        print(f\"{attempts} remaining\")\n",
    "    else:\n",
    "        print(\"Your guess was lower\")\n",
    "        print(f\"{attempts} remaining\")\n",
    "    if attempts == 0:\n",
    "        print(\"Out of attepmts pay for more attempts\")\n",
    "        # print(\"Better luck next time\")\n",
    "        break\n",
    "    "
   ]
  }
 ],
 "metadata": {
  "kernelspec": {
   "display_name": "Python 3",
   "language": "python",
   "name": "python3"
  },
  "language_info": {
   "codemirror_mode": {
    "name": "ipython",
    "version": 3
   },
   "file_extension": ".py",
   "mimetype": "text/x-python",
   "name": "python",
   "nbconvert_exporter": "python",
   "pygments_lexer": "ipython3",
   "version": "3.13.3"
  }
 },
 "nbformat": 4,
 "nbformat_minor": 5
}
