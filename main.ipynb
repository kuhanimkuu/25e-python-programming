{
 "cells": [
  {
   "cell_type": "code",
   "execution_count": null,
   "id": "ff18f4fc",
   "metadata": {},
   "outputs": [
    {
     "name": "stdout",
     "output_type": "stream",
     "text": [
      "False\n",
      "the value of p is: False\n",
      "The value of q is: True\n"
     ]
    }
   ],
   "source": [
    "p =(10==9)\n",
    "q=(5>2)\n",
    "print(f\"the value of p is: {p}\")\n",
    "print(f\"The value of q is: {q}\")"
   ]
  },
  {
   "cell_type": "code",
   "execution_count": null,
   "id": "a63a3b35",
   "metadata": {},
   "outputs": [],
   "source": [
    "x=4.5\n",
    "y=2.5\n",
    "z=x+y\n",
    "z\n",
    "input(\"enter name\")"
   ]
  },
  {
   "cell_type": "code",
   "execution_count": 11,
   "id": "68dcaf8c",
   "metadata": {},
   "outputs": [
    {
     "name": "stdout",
     "output_type": "stream",
     "text": [
      "False\n"
     ]
    }
   ],
   "source": [
    "r = p and q\n",
    "print(r)"
   ]
  },
  {
   "cell_type": "code",
   "execution_count": null,
   "id": "08c2fc01",
   "metadata": {},
   "outputs": [
    {
     "name": "stdout",
     "output_type": "stream",
     "text": [
      "500\n"
     ]
    }
   ],
   "source": [
    "hours = int(input(\"Enter number of hours: \"))\n",
    "rate = int(input(\"Enter gross pay per hour: \"))\n",
    "total = hours * rate\n",
    "print(f\"Ksh {total}\")"
   ]
  },
  {
   "cell_type": "code",
   "execution_count": 5,
   "id": "746b949c",
   "metadata": {},
   "outputs": [
    {
     "name": "stdout",
     "output_type": "stream",
     "text": [
      "50.0\n"
     ]
    }
   ],
   "source": [
    "temp = int(input(\"Enter temperature in celsius\"))\n",
    "value = (temp*9/5) + 32\n",
    "print(value)"
   ]
  },
  {
   "cell_type": "code",
   "execution_count": 8,
   "id": "17e202f1",
   "metadata": {},
   "outputs": [
    {
     "name": "stdout",
     "output_type": "stream",
     "text": [
      "144\n"
     ]
    }
   ],
   "source": [
    "x = int(input(\"Enter random number: \"))\n",
    "def square(x):\n",
    "    y=x**2\n",
    "    print(y)\n",
    "square(x)"
   ]
  },
  {
   "cell_type": "code",
   "execution_count": 12,
   "id": "4cc96ec6",
   "metadata": {},
   "outputs": [
    {
     "name": "stdout",
     "output_type": "stream",
     "text": [
      "53.6\n"
     ]
    }
   ],
   "source": [
    "\n",
    "def temp_converter():\n",
    "    temp = float(input(\"Enter temp in celcius: \"))\n",
    "    faren = float(temp*9/5)+32\n",
    "    print(faren)\n",
    "\n",
    "temp_converter()"
   ]
  }
 ],
 "metadata": {
  "kernelspec": {
   "display_name": "Python 3",
   "language": "python",
   "name": "python3"
  },
  "language_info": {
   "codemirror_mode": {
    "name": "ipython",
    "version": 3
   },
   "file_extension": ".py",
   "mimetype": "text/x-python",
   "name": "python",
   "nbconvert_exporter": "python",
   "pygments_lexer": "ipython3",
   "version": "3.13.3"
  }
 },
 "nbformat": 4,
 "nbformat_minor": 5
}
