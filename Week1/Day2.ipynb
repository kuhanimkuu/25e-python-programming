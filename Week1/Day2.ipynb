{
 "cells": [
  {
   "cell_type": "code",
   "execution_count": null,
   "id": "e257469e",
   "metadata": {},
   "outputs": [
    {
     "name": "stdout",
     "output_type": "stream",
     "text": [
      "Welcome, David\n"
     ]
    }
   ],
   "source": [
    "'''A program that prompts the user to enter name and welcome them'''\n",
    "name = str(input(\"Enter your name: \"))\n",
    "print(\"Welcome, \"+ name)"
   ]
  },
  {
   "cell_type": "code",
   "execution_count": 4,
   "id": "3d74a396",
   "metadata": {},
   "outputs": [
    {
     "name": "stdout",
     "output_type": "stream",
     "text": [
      "281.33\n"
     ]
    }
   ],
   "source": [
    "'''A program that prompts user to enter rate of pay and \n",
    "hours worked and calculate the total pay\n",
    "'''\n",
    "import math\n",
    "hours = float(input(\"Enter number of hours: \"))#Prompt user to enter number of hours\n",
    "rate = float(input(\"Enter rate of pay: \"))#Prompt user to enter rate of pay\n",
    "pay = hours*rate\n",
    "pay = round(pay, 2)\n",
    "print(pay)"
   ]
  },
  {
   "cell_type": "code",
   "execution_count": 8,
   "id": "86548d29",
   "metadata": {},
   "outputs": [
    {
     "name": "stdout",
     "output_type": "stream",
     "text": [
      "11\n"
     ]
    }
   ],
   "source": [
    "print(1 + 2 * 5)"
   ]
  },
  {
   "cell_type": "markdown",
   "id": "e60e51d7",
   "metadata": {},
   "source": [
    "width = 17\n",
    "height = 12.0\n",
    "for each of the following expressions write the value of the expression and the type(of the value of the expression)\n",
    "\n",
    "1. width//2\n",
    "    8, int\n",
    "\n",
    "2. width/2.0\n",
    "    8.5, float\n",
    "\n",
    "3. height/3\n",
    "    4.0, float\n",
    "\n",
    "4. 1 + 2 * 5\n",
    "    11, int"
   ]
  },
  {
   "cell_type": "code",
   "execution_count": 10,
   "id": "0ca81bee",
   "metadata": {},
   "outputs": [
    {
     "name": "stdout",
     "output_type": "stream",
     "text": [
      "94.1\n"
     ]
    }
   ],
   "source": [
    "'''\n",
    " Write a program which prompts the user for a\n",
    "Celsius temperature, convert the temperature\n",
    " to Fahrenheit,and print out the \n",
    " converted temperature.\n",
    "'''\n",
    "degree_celsius = float(input(\"Enter temperature in degree celcius: \"))\n",
    "degree_farenheit = float((degree_celsius*1.8) + 32)\n",
    "print(degree_farenheit)\n"
   ]
  }
 ],
 "metadata": {
  "kernelspec": {
   "display_name": "Python 3",
   "language": "python",
   "name": "python3"
  },
  "language_info": {
   "codemirror_mode": {
    "name": "ipython",
    "version": 3
   },
   "file_extension": ".py",
   "mimetype": "text/x-python",
   "name": "python",
   "nbconvert_exporter": "python",
   "pygments_lexer": "ipython3",
   "version": "3.13.3"
  }
 },
 "nbformat": 4,
 "nbformat_minor": 5
}
