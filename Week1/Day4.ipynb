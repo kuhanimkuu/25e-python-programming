{
 "cells": [
  {
   "cell_type": "code",
   "execution_count": null,
   "id": "0f9769b6",
   "metadata": {},
   "outputs": [
    {
     "name": "stdout",
     "output_type": "stream",
     "text": [
      "-2 is a negative number\n"
     ]
    }
   ],
   "source": [
    "'''Create a function that will \n",
    "determine whether a number is positive or negative.'''\n",
    "\n",
    "number = int(input(\"Enter number: \"))\n",
    "def my_func(number):\n",
    "    if number < 0:\n",
    "        print(f\"{number} is a negative number\")\n",
    "    elif number > 0:\n",
    "        print(f\"{number} is a positive number\")\n",
    "    else:\n",
    "        print( f\"{number} is a zero\")\n",
    "my_func(number)"
   ]
  },
  {
   "cell_type": "code",
   "execution_count": null,
   "id": "8403a463",
   "metadata": {},
   "outputs": [
    {
     "name": "stdout",
     "output_type": "stream",
     "text": [
      "Area of the circle is: 154.0\n",
      "Area of the square is: 4.0\n",
      "Cannot calculate area\n",
      "The area of the rectangle is: 345.0\n"
     ]
    }
   ],
   "source": [
    "'''\n",
    "Write functions to calculate the area of different shapes \n",
    "like square (area_of_square(side_length)),\n",
    "rectangle (area_of_rectangle(length, width)),\n",
    "and circle (area_of_circle(radius)).'''\n",
    "\n",
    "\n",
    "def area_of_square():\n",
    "    side = float(input(\"Enter side of square: \"))\n",
    "    area = side*side\n",
    "    print(f\"Area of the square is: {area}\")\n",
    "\n",
    "def area_of_rectangle():\n",
    "    length = float(input(\"Enter the length of the rectangle: \"))\n",
    "    width = float(input(\"Enter the width of the rectangle: \"))\n",
    "    area = length * width\n",
    "    print(f\"The area of the rectangle is: {area}\")\n",
    "\n",
    "def area_of_circle():\n",
    "    radius = float(input(\"Enter the radius of the circle\"))\n",
    "    pi = 22/7\n",
    "    area = pi * (radius ** 2 )\n",
    "    print(f\"Area of the circle is: {area}\")\n",
    "\n",
    "while True:\n",
    "    shape = str(input(\"Enter the shape you want to find it's area (square, rectangle or circle) Press q to quit\"))\n",
    "    if shape ==\"square\":\n",
    "        area_of_square()\n",
    "    elif shape == \"rectangle\":\n",
    "        area_of_rectangle()\n",
    "    elif shape == \"circle\":\n",
    "        area_of_circle()\n",
    "    elif shape == \"q\": \n",
    "        print('Goodbye')\n",
    "        break\n",
    "    else:\n",
    "        print(\"Cannot calculate area\")"
   ]
  },
  {
   "cell_type": "code",
   "execution_count": 9,
   "id": "643585c0",
   "metadata": {},
   "outputs": [
    {
     "name": "stdout",
     "output_type": "stream",
     "text": [
      "Grade : F\n"
     ]
    }
   ],
   "source": [
    "'''\n",
    "Write a function called calculate_grade that takes a score\n",
    "as input and returns the corresponding letter grade \n",
    "(A, B, C, D, F) based on a grading scale \n",
    "(e.g., A: 90-100, B: 80-89, etc.).'''\n",
    "\n",
    "def calculate_grade():\n",
    "    score = float(input(\"Enter score: \"))\n",
    "    if score > 100 or score < 0:\n",
    "        print(\"Invalid score\")\n",
    "    \n",
    "    if score > 89 and score < 101:\n",
    "        print(\"Grade : A\")\n",
    "    elif score > 79 and score < 90:\n",
    "        print(\"Grade : B\")\n",
    "    elif score > 69 and score < 80:\n",
    "        print(\"Grade : C\") \n",
    "    elif score > 59 and score < 70:\n",
    "        print(\"Grade : D\")\n",
    "    elif score > 49 and score < 60:\n",
    "        print(\"Grade : E\")\n",
    "    else:\n",
    "        print(\"Grade : F\")\n",
    "calculate_grade()"
   ]
  }
 ],
 "metadata": {
  "kernelspec": {
   "display_name": "Python 3",
   "language": "python",
   "name": "python3"
  },
  "language_info": {
   "codemirror_mode": {
    "name": "ipython",
    "version": 3
   },
   "file_extension": ".py",
   "mimetype": "text/x-python",
   "name": "python",
   "nbconvert_exporter": "python",
   "pygments_lexer": "ipython3",
   "version": "3.13.3"
  }
 },
 "nbformat": 4,
 "nbformat_minor": 5
}
