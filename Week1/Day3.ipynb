{
 "cells": [
  {
   "cell_type": "code",
   "execution_count": null,
   "id": "9dc61d36",
   "metadata": {},
   "outputs": [],
   "source": [
    "'''\n",
    "Write a program that allows the user to enter two numbers\n",
    "and an operator (+, -, *, /) and perform the corresponding\n",
    "calculation. Use conditional statements to \n",
    "handle different operators.'''\n",
    "\n",
    "while True:\n",
    "    try:\n",
    "        num_1 = int(input(\"Enter first number here: \"))\n",
    "        break\n",
    "    except:\n",
    "        print(\"wrong input\")\n",
    "while True:\n",
    "    try:\n",
    "        num_2 = int(input(\"Enter second number here: \"))\n",
    "        break\n",
    "    except:\n",
    "        print(\"wrong input\")\n",
    "# Taking operator input from user\n",
    "print(\"Operators provided are +,-,*,/ and //\")\n",
    "operator = input(\"Enter operator here: \")\n",
    "\n",
    "''' performing arithmetic operations on the numbers provided'''\n",
    "# Perform addition\n",
    "if operator ==\"+\":\n",
    "    sum = num_1+num_2\n",
    "    print(sum)\n",
    "\n",
    "#Perform subtraction \n",
    "elif operator ==\"-\":\n",
    "    sub = num_1-num_2\n",
    "    print(sub)\n",
    "\n",
    "# Perform multiplication\n",
    "elif operator == \"*\":\n",
    "    multiply = num_1*num_2\n",
    "    print(multiply)\n",
    "\n",
    "# Perform division\n",
    "elif operator ==\"/\":\n",
    "    divide = num_1/num_2\n",
    "    print(divide)\n",
    "\n",
    "# Perform modulus \n",
    "elif operator == \"//\":\n",
    "    modulus = num_1//num_2\n",
    "    print(modulus)\n",
    "else:\n",
    "    print(\"Wrong operator input\")"
   ]
  },
  {
   "cell_type": "code",
   "execution_count": null,
   "id": "d0316a2e",
   "metadata": {},
   "outputs": [],
   "source": [
    "'''\n",
    "Write a program that generates a random number between 1 \n",
    "and 100. The user has to guess the number in a limited\n",
    "number of attempts. Provide feedbackafter each guess\n",
    "(higher, lower, or correct).'''\n",
    "\n",
    "\n",
    "import random\n",
    "random_no = random.randint(1,100)\n",
    "attempts = 3\n",
    "while attempts > -1:\n",
    "    attempts-=1\n",
    "    guess = int(input(\"Enter a random number between 1 and 100: \"))\n",
    "    if guess == random_no:\n",
    "        print(f\"You guessed it {random_no}\")\n",
    "        print(\"Congratulations\")\n",
    "        break\n",
    "    elif guess > random_no:\n",
    "        print(\"Your guess was higher\")\n",
    "        print(f\"{attempts} remaining\")\n",
    "    else:\n",
    "        print(\"Your guess was lower\")\n",
    "        print(f\"{attempts} remaining\")\n",
    "    if attempts == 0:\n",
    "        print(\"Out of attepmts pay for more attempts\")\n",
    "        # print(\"Better luck next time\")\n",
    "        break\n",
    "    "
   ]
  },
  {
   "cell_type": "code",
   "execution_count": 20,
   "id": "8f836ef6",
   "metadata": {},
   "outputs": [
    {
     "name": "stdout",
     "output_type": "stream",
     "text": [
      "4 is not a prime number.\n"
     ]
    }
   ],
   "source": [
    "'''\n",
    "Write a program that uses a while loop to check if a number entered by the user \n",
    "is a prime number (divisible only by 1 and itself).'''\n",
    "# Prime number checker using a while loop\n",
    "\n",
    "num = int(input(\"Enter a number: \"))\n",
    "\n",
    "if num <= 1:\n",
    "    print(f\"{num} is not a prime number.\")\n",
    "else:\n",
    "    is_prime = True\n",
    "    i = 2\n",
    "\n",
    "    while i < num:\n",
    "        if num % i == 0:\n",
    "            is_prime = False\n",
    "            break\n",
    "        i += 1\n",
    "\n",
    "    if is_prime:\n",
    "        print(f\"{num} is a prime number.\")\n",
    "    else:\n",
    "        print(f\"{num} is not a prime number.\")\n",
    "\n",
    "\n",
    "\n",
    "\n"
   ]
  },
  {
   "cell_type": "code",
   "execution_count": null,
   "id": "ee398c49",
   "metadata": {},
   "outputs": [
    {
     "name": "stdout",
     "output_type": "stream",
     "text": [
      "0\n",
      "0\n",
      "1\n",
      "0\n"
     ]
    }
   ],
   "source": [
    "''''''"
   ]
  }
 ],
 "metadata": {
  "kernelspec": {
   "display_name": "Python 3",
   "language": "python",
   "name": "python3"
  },
  "language_info": {
   "codemirror_mode": {
    "name": "ipython",
    "version": 3
   },
   "file_extension": ".py",
   "mimetype": "text/x-python",
   "name": "python",
   "nbconvert_exporter": "python",
   "pygments_lexer": "ipython3",
   "version": "3.13.3"
  }
 },
 "nbformat": 4,
 "nbformat_minor": 5
}
