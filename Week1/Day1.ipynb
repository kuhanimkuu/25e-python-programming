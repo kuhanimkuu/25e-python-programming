{
 "cells": [
  {
   "cell_type": "code",
   "execution_count": 12,
   "id": "2c08c9fd",
   "metadata": {},
   "outputs": [
    {
     "name": "stdout",
     "output_type": "stream",
     "text": [
      "wrong input\n",
      "wrong input\n",
      "wrong input\n",
      "wrong input\n",
      "Operators provided are +,-,*,/ and //\n",
      "0\n"
     ]
    }
   ],
   "source": [
    "'''A program that acts as a simple calculator'''\n",
    "# Taking integer input from user\n",
    "while True:\n",
    "    try:\n",
    "        num_1 = int(input(\"Enter first number here: \"))\n",
    "        break\n",
    "    except:\n",
    "        print(\"wrong input\")\n",
    "while True:\n",
    "    try:\n",
    "        num_2 = int(input(\"Enter second number here: \"))\n",
    "        break\n",
    "    except:\n",
    "        print(\"wrong input\")\n",
    "# Taking operator input from user\n",
    "print(\"Operators provided are +,-,*,/ and //\")\n",
    "operator = input(\"Enter operator here: \")\n",
    "\n",
    "''' performing arithmetic operations on the numbers provided'''\n",
    "# Perform addition\n",
    "if operator ==\"+\":\n",
    "    sum = num_1+num_2\n",
    "    print(sum)\n",
    "\n",
    "#Perform subtraction \n",
    "elif operator ==\"-\":\n",
    "    sub = num_1-num_2\n",
    "    print(sub)\n",
    "\n",
    "# Perform multiplication\n",
    "elif operator == \"*\":\n",
    "    multiply = num_1*num_2\n",
    "    print(multiply)\n",
    "\n",
    "# Perform division\n",
    "elif operator ==\"/\":\n",
    "    divide = num_1/num_2\n",
    "    print(divide)\n",
    "\n",
    "# Perform modulus \n",
    "elif operator == \"//\":\n",
    "    modulus = num_1//num_2\n",
    "    print(modulus)\n",
    "else:\n",
    "    print(\"Wrong operator input\")"
   ]
  },
  {
   "cell_type": "code",
   "execution_count": 7,
   "id": "83df5598",
   "metadata": {},
   "outputs": [
    {
     "name": "stdout",
     "output_type": "stream",
     "text": [
      "62\n"
     ]
    }
   ],
   "source": [
    "'''A program that generates and prints a random number between 1 and 100'''\n",
    "import random\n",
    "random_number = random.randint(1,100)\n",
    "print(random_number)"
   ]
  },
  {
   "cell_type": "code",
   "execution_count": null,
   "id": "c517d3d7",
   "metadata": {},
   "outputs": [
    {
     "name": "stdout",
     "output_type": "stream",
     "text": [
      "13\n"
     ]
    }
   ],
   "source": [
    "'''A program that calculates and prints the square root of a given number\n",
    "using the math.sqrt() function\n",
    "'''\n",
    "import math\n",
    "number = int(input(\"Enter number\"))\n",
    "square_root = math.sqrt(number)\n",
    "print(float(square_root))"
   ]
  }
 ],
 "metadata": {
  "kernelspec": {
   "display_name": "Python 3",
   "language": "python",
   "name": "python3"
  },
  "language_info": {
   "codemirror_mode": {
    "name": "ipython",
    "version": 3
   },
   "file_extension": ".py",
   "mimetype": "text/x-python",
   "name": "python",
   "nbconvert_exporter": "python",
   "pygments_lexer": "ipython3",
   "version": "3.13.3"
  }
 },
 "nbformat": 4,
 "nbformat_minor": 5
}
