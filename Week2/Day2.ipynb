{
 "cells": [
  {
   "cell_type": "markdown",
   "id": "590015c6",
   "metadata": {},
   "source": [
    "### Lists and tuples"
   ]
  },
  {
   "cell_type": "code",
   "execution_count": 1,
   "id": "1f740e3f",
   "metadata": {},
   "outputs": [
    {
     "name": "stdout",
     "output_type": "stream",
     "text": [
      "['pineapple', 'banana', 'grapes', 'banana', 'orange', 'kiwi', 'apple']\n"
     ]
    }
   ],
   "source": [
    "fruits = ['apple','kiwi','orange','banana','grapes','banana','pineapple']\n",
    "print(fruits[::-1])"
   ]
  },
  {
   "cell_type": "markdown",
   "id": "4c9f6b53",
   "metadata": {},
   "source": [
    "Write a program that creates a list of numbers or words and then sorts the list in ascending or descending order using built-in functions like sorted or the sort method."
   ]
  },
  {
   "cell_type": "code",
   "execution_count": 10,
   "id": "5f26ba34",
   "metadata": {},
   "outputs": [
    {
     "name": "stdout",
     "output_type": "stream",
     "text": [
      "[59, 49, 66, 52, 29, 87, 13, 99, 74, 27, 32, 67, 47, 64, 53, 11]\n",
      "[11, 13, 27, 29, 32, 47, 49, 52, 53, 59, 64, 66, 67, 74, 87, 99]\n",
      "[99, 87, 74, 67, 66, 64, 59, 53, 52, 49, 47, 32, 29, 27, 13, 11]\n"
     ]
    }
   ],
   "source": [
    "import random\n",
    "my_list = []\n",
    "count = 0\n",
    "while count <= 15:\n",
    "    number = random.randint(0,100)\n",
    "    my_list.append(number)\n",
    "    count+=1\n",
    "ascending_list = sorted(my_list)\n",
    "descending_list = sorted(my_list, reverse=True)\n",
    "print(my_list)\n",
    "print(ascending_list)\n",
    "print(descending_list)"
   ]
  },
  {
   "cell_type": "markdown",
   "id": "f6296dd8",
   "metadata": {},
   "source": [
    "Write a Python program to get the largest number from the following list: l1 = [43, 89, 67, 56, 12]"
   ]
  },
  {
   "cell_type": "code",
   "execution_count": 11,
   "id": "625d11d0",
   "metadata": {},
   "outputs": [
    {
     "name": "stdout",
     "output_type": "stream",
     "text": [
      "89\n"
     ]
    }
   ],
   "source": [
    "l1 = [43, 89, 67, 56, 12]\n",
    "print(max(l1))"
   ]
  },
  {
   "cell_type": "markdown",
   "id": "6ceb212f",
   "metadata": {},
   "source": [
    "Write a Python program to sum all the items in this list: list1 = [10,20,30,40,50]"
   ]
  },
  {
   "cell_type": "code",
   "execution_count": 13,
   "id": "b6a67b80",
   "metadata": {},
   "outputs": [
    {
     "name": "stdout",
     "output_type": "stream",
     "text": [
      "150\n"
     ]
    }
   ],
   "source": [
    "list1 = [10,20,30,40,50]\n",
    "sum =0\n",
    "for i in list1:\n",
    "    sum = sum+i\n",
    "print(sum)"
   ]
  },
  {
   "cell_type": "markdown",
   "id": "c1cf5451",
   "metadata": {},
   "source": [
    "Write a Python program to remove duplicates from the following list: list2 = [23, 45, 67, -10, 23, 50, -10]"
   ]
  },
  {
   "cell_type": "code",
   "execution_count": null,
   "id": "5bdb9c7a",
   "metadata": {},
   "outputs": [
    {
     "name": "stdout",
     "output_type": "stream",
     "text": [
      "23 2\n",
      "-10 2\n",
      "[45, 67, 23, 50, -10]\n"
     ]
    }
   ],
   "source": [
    "list2 = [23, 45, 67, -10, 23, 50, -10]\n",
    "list3 = []\n",
    "i = 0\n",
    "for j in list2:\n",
    "    counter = list2.count(j)\n",
    "    if counter > 1:\n",
    "        list2.remove(j)\n",
    "        print(j,counter)\n",
    "    \n",
    "    \n",
    "print(list2)"
   ]
  },
  {
   "cell_type": "markdown",
   "id": "32be0db4",
   "metadata": {},
   "source": [
    "Write a program that creates a list of numbers and then iterates through the list using a for loop, printing each element and its index."
   ]
  },
  {
   "cell_type": "code",
   "execution_count": 39,
   "id": "7c6df983",
   "metadata": {},
   "outputs": [
    {
     "name": "stdout",
     "output_type": "stream",
     "text": [
      "0 40\n",
      "1 24\n",
      "2 59\n",
      "3 58\n",
      "4 81\n",
      "5 68\n",
      "6 0\n",
      "7 34\n",
      "8 13\n",
      "9 0\n",
      "10 18\n",
      "11 15\n",
      "12 10\n",
      "13 42\n",
      "14 97\n",
      "15 31\n"
     ]
    }
   ],
   "source": [
    "import random\n",
    "my_list2 = []\n",
    "count = 0\n",
    "while count <= 15:\n",
    "    number = random.randint(0,100)\n",
    "    my_list2.append(number)\n",
    "    count+=1\n",
    "for i in range(0,len(my_list2)):\n",
    "    print(i, my_list2[i])\n",
    "    i+=1\n"
   ]
  },
  {
   "cell_type": "markdown",
   "id": "862c45b3",
   "metadata": {},
   "source": [
    "Create a tuple to store a student’s name, age, and grade. Print the entire tuple."
   ]
  },
  {
   "cell_type": "code",
   "execution_count": null,
   "id": "df7de5c1",
   "metadata": {},
   "outputs": [
    {
     "name": "stdout",
     "output_type": "stream",
     "text": [
      "(12, 'Kuhani', 'A')\n"
     ]
    }
   ],
   "source": [
    "age = int(input('Enter student age: '))\n",
    "name = str(input(\"Enter student name: \"))\n",
    "grade = str(input(\"Enter student grade: \"))\n",
    "student_details = (name,age, grade)\n",
    "print(student_details)"
   ]
  },
  {
   "cell_type": "markdown",
   "id": "c0c25fa8",
   "metadata": {},
   "source": [
    "Create a tuple to store mathematical operators (+, -, *, /) and write a program that allows users to choose an operator and perform basic calculations with two numbers."
   ]
  },
  {
   "cell_type": "code",
   "execution_count": 8,
   "id": "4ab3c3c1",
   "metadata": {},
   "outputs": [
    {
     "name": "stdout",
     "output_type": "stream",
     "text": [
      "Operator not found\n"
     ]
    }
   ],
   "source": [
    "operators = ('+','-','*','/')\n",
    "num_1 = int(input('Enter first number: '))\n",
    "num_2 = int(input(\"Enter second number: \"))\n",
    "operator = str(input(f\"enter operator {operators}\"))\n",
    "if operator == operators[0]:\n",
    "    sum = num_1+num_2\n",
    "    print(sum)\n",
    "elif operator == operators[1]:\n",
    "    sub = num_1-num_2\n",
    "    print(sub)\n",
    "elif operator == operators[2]:\n",
    "    multiple = num_1*num_2\n",
    "    print(multiple)\n",
    "elif operator == operators[3]:\n",
    "    divide = num_1/num_2\n",
    "    print(divide)\n",
    "else:\n",
    "    print(\"Operator not found\")\n"
   ]
  }
 ],
 "metadata": {
  "kernelspec": {
   "display_name": "Python 3",
   "language": "python",
   "name": "python3"
  },
  "language_info": {
   "codemirror_mode": {
    "name": "ipython",
    "version": 3
   },
   "file_extension": ".py",
   "mimetype": "text/x-python",
   "name": "python",
   "nbconvert_exporter": "python",
   "pygments_lexer": "ipython3",
   "version": "3.13.3"
  }
 },
 "nbformat": 4,
 "nbformat_minor": 5
}
