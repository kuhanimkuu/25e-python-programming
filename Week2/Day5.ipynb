{
 "cells": [
  {
   "cell_type": "markdown",
   "id": "f990b291",
   "metadata": {},
   "source": [
    "String operations\n",
    "RegEx in python"
   ]
  },
  {
   "cell_type": "markdown",
   "id": "14623775",
   "metadata": {},
   "source": [
    "Basic string operations(string methods)\n",
    "functions that can only be applied to strings\n",
    "1. to access specific character in a string\n",
    "string[index]\n",
    "2. Slicing string:\n",
    "Works same as slicing list\n",
    "string[startIndex:StopIndex:JumpStep]\n",
    "3. Strings are immutable(you cannot change the value of a string) by using indexing but we can replace a value in a string\n",
    "4. concatenation of string\n",
    "5. \"in\" and \"not in\" used in string"
   ]
  },
  {
   "cell_type": "code",
   "execution_count": 1,
   "id": "597ecb5a",
   "metadata": {},
   "outputs": [
    {
     "name": "stdout",
     "output_type": "stream",
     "text": [
      "J\n"
     ]
    }
   ],
   "source": [
    "name = 'Jesse'\n",
    "print(name[0])"
   ]
  },
  {
   "cell_type": "code",
   "execution_count": 5,
   "id": "5c80d512",
   "metadata": {},
   "outputs": [
    {
     "data": {
      "text/plain": [
       "'Eooi'"
      ]
     },
     "execution_count": 5,
     "metadata": {},
     "output_type": "execute_result"
    }
   ],
   "source": [
    "name[2:4:1]\n",
    "s= 'Economics'\n",
    "s[0:7:2]"
   ]
  },
  {
   "cell_type": "code",
   "execution_count": 12,
   "id": "f1914fe6",
   "metadata": {},
   "outputs": [
    {
     "data": {
      "text/plain": [
       "('economics', 'Economics')"
      ]
     },
     "execution_count": 12,
     "metadata": {},
     "output_type": "execute_result"
    }
   ],
   "source": [
    "k=s.replace(\"E\",'e')\n",
    "k,s"
   ]
  },
  {
   "cell_type": "code",
   "execution_count": 19,
   "id": "6db11341",
   "metadata": {},
   "outputs": [
    {
     "name": "stdout",
     "output_type": "stream",
     "text": [
      "David Austin  David Austin  David Austin  \n"
     ]
    }
   ],
   "source": [
    "first_name = 'David'\n",
    "second_name = 'Austin'\n",
    "full_name = first_name + \" \"+second_name + \"  \"\n",
    "full_name\n",
    "print(full_name*3)"
   ]
  },
  {
   "cell_type": "code",
   "execution_count": null,
   "id": "e8aeb924",
   "metadata": {},
   "outputs": [
    {
     "name": "stdout",
     "output_type": "stream",
     "text": [
      "True\n"
     ]
    }
   ],
   "source": [
    "print('A' in 'Austin')\n",
    "print('b' not in 'Austin')"
   ]
  },
  {
   "cell_type": "markdown",
   "id": "a7f39e77",
   "metadata": {},
   "source": [
    "Usefull string methods\n",
    "1. split() method\n",
    "used to separate a string and store them as elements in a list\n",
    "string.split('separator')\n",
    "2. join() method\n",
    "used to join elements of a list to form a string\n",
    "\"joiner(comma, fullstop etc)\".join(list)"
   ]
  },
  {
   "cell_type": "code",
   "execution_count": 22,
   "id": "f1aecbcb",
   "metadata": {},
   "outputs": [
    {
     "name": "stdout",
     "output_type": "stream",
     "text": [
      "['We are going home', ' my home is Embu']\n"
     ]
    }
   ],
   "source": [
    "sentence = 'We are going home, my home is Embu'\n",
    "print(sentence.split(','))"
   ]
  },
  {
   "cell_type": "code",
   "execution_count": 25,
   "id": "a4fdf6d5",
   "metadata": {},
   "outputs": [
    {
     "name": "stdout",
     "output_type": "stream",
     "text": [
      "2025-3-12\n"
     ]
    }
   ],
   "source": [
    "print('-'.join([\"2025\",\"3\",\"12\"]))"
   ]
  },
  {
   "cell_type": "markdown",
   "id": "064ec28d",
   "metadata": {},
   "source": [
    "# Extracting substring from strings"
   ]
  },
  {
   "cell_type": "code",
   "execution_count": null,
   "id": "85fe703b",
   "metadata": {},
   "outputs": [
    {
     "data": {
      "text/plain": [
       "'5'"
      ]
     },
     "execution_count": 52,
     "metadata": {},
     "output_type": "execute_result"
    }
   ],
   "source": [
    "line = 'From stephen.marquard@ utc.ac.za Sat Jan 5 09:14:16 2008'\n",
    "words = line.split()\n",
    "words\n",
    "email = words[1]\n",
    "email\n",
    "at_index = email.find('@')\n",
    "at_index\n",
    "sender_name = email[:at_index]\n",
    "sender_name\n",
    "month = words[4]\n",
    "day = words[3]\n",
    "\n"
   ]
  },
  {
   "cell_type": "code",
   "execution_count": 54,
   "id": "aad57946",
   "metadata": {},
   "outputs": [
    {
     "data": {
      "text/plain": [
       "3"
      ]
     },
     "execution_count": 54,
     "metadata": {},
     "output_type": "execute_result"
    }
   ],
   "source": [
    "#find('what your trying to find', start, stop) brings \n",
    "# first instance of the element being searched\n",
    "fruits= 'banana'\n",
    "fruits.find('a',2)"
   ]
  },
  {
   "cell_type": "markdown",
   "id": "db44f7b1",
   "metadata": {},
   "source": [
    "We have the following email and timestamps\n",
    "line = 'From mercy.mwangi@zindua.tech Sat Jun 7 11:13:00 2025'\n",
    "output zindua tech \n",
    "Nb do not use split use only find"
   ]
  },
  {
   "cell_type": "code",
   "execution_count": 68,
   "id": "516c796d",
   "metadata": {},
   "outputs": [
    {
     "name": "stdout",
     "output_type": "stream",
     "text": [
      "18\n",
      "28\n"
     ]
    },
    {
     "data": {
      "text/plain": [
       "'zindua.tech'"
      ]
     },
     "execution_count": 68,
     "metadata": {},
     "output_type": "execute_result"
    }
   ],
   "source": [
    "line = 'From mercy.mwangi@zindua.tech Sat Jun 7 11:13:00 2025'\n",
    "first_index = line.find(\"z\")\n",
    "print(first_index)\n",
    "last_index = line.find('h',first_index)\n",
    "print(last_index)\n",
    "company_name = line[first_index:last_index+1]\n",
    "company_name"
   ]
  },
  {
   "cell_type": "markdown",
   "id": "e8d555ee",
   "metadata": {},
   "source": [
    "print(first_index)\n",
    "last_index = line.find('h',first_index)\n",
    "print(last_index)\n",
    "company_name = line[18:29]\n",
    "company_name"
   ]
  },
  {
   "cell_type": "markdown",
   "id": "8a7e2b7f",
   "metadata": {},
   "source": [
    "### Regular expressions (RegEx)"
   ]
  },
  {
   "cell_type": "markdown",
   "id": "27da6693",
   "metadata": {},
   "source": [
    "r stands for raw string\n",
    "\\d - find all digits in this string\n",
    "\\w+ - all alphanumeric characters and underscore\n",
    "\\s - find all white spaces and escape characters\n",
    "[...] - finds all characters in the bracket\n",
    "# quantifiers - they control/tell us how many times the character can appear\n",
    "\\d+ - digits appear one or more times\n",
    "? - read more...\n",
    "* match any string with the order given\n",
    "\\d{number} - find digits is are a cetain count\n",
    "\\d{m,m} - find digits within certain range of count\n",
    "# Anchors- they specify the position and not the matching pattern from where to begin the search\n",
    "^ - start of a string\n",
    "$ - end of the string\n",
    "\\b - used for exact matches"
   ]
  },
  {
   "cell_type": "code",
   "execution_count": null,
   "id": "9f01eb36",
   "metadata": {},
   "outputs": [],
   "source": [
    "import re \n",
    "print(re.findall(r'\\d','Order 45 was place in 2023'))"
   ]
  },
  {
   "cell_type": "code",
   "execution_count": null,
   "id": "8a649391",
   "metadata": {},
   "outputs": [],
   "source": [
    "print(re.findall(r'\\w+','Welcome to _python3 !!'))"
   ]
  },
  {
   "cell_type": "code",
   "execution_count": 70,
   "id": "87967a39",
   "metadata": {},
   "outputs": [
    {
     "name": "stdout",
     "output_type": "stream",
     "text": [
      "['e', 'o', 'o']\n"
     ]
    }
   ],
   "source": [
    "import re\n",
    "print(re.findall(r'[a,e,i,o,u]', 'Hello world'))"
   ]
  },
  {
   "cell_type": "code",
   "execution_count": 71,
   "id": "b34ffa7d",
   "metadata": {},
   "outputs": [
    {
     "name": "stdout",
     "output_type": "stream",
     "text": [
      "['12', '3', '200']\n"
     ]
    }
   ],
   "source": [
    "print(re.findall(r'\\d+','we have 12 goats, 3 pigs and 200 cows'))"
   ]
  },
  {
   "cell_type": "code",
   "execution_count": null,
   "id": "2d867933",
   "metadata": {},
   "outputs": [],
   "source": [
    "print(re.findall(r'colou?r','colouur and colour are both valid ' ))\n",
    "# the u can appear once or none"
   ]
  },
  {
   "cell_type": "code",
   "execution_count": null,
   "id": "f4451b16",
   "metadata": {},
   "outputs": [
    {
     "name": "stdout",
     "output_type": "stream",
     "text": [
      "['abb', 'a', 'ab', 'abbbb', 'a']\n"
     ]
    }
   ],
   "source": [
    "print(re.findall(r\"ab*\",'abb a ab abbbb accc'))\n",
    "# give me a with b appearing either zero, once or many times for c it won't pass\n",
    "#In short find a and b"
   ]
  },
  {
   "cell_type": "code",
   "execution_count": 76,
   "id": "199b575f",
   "metadata": {},
   "outputs": [
    {
     "name": "stdout",
     "output_type": "stream",
     "text": [
      "['2025']\n"
     ]
    }
   ],
   "source": [
    "print(re.findall(r'\\d{4}','We went on 25 2025'))"
   ]
  },
  {
   "cell_type": "code",
   "execution_count": 78,
   "id": "1a239f8e",
   "metadata": {},
   "outputs": [
    {
     "name": "stdout",
     "output_type": "stream",
     "text": [
      "['234', '44334', '44']\n"
     ]
    }
   ],
   "source": [
    "print(re.findall(r'\\d{2,5}', 'We are going to 234 to find 4433444'))"
   ]
  },
  {
   "cell_type": "code",
   "execution_count": null,
   "id": "0401812b",
   "metadata": {},
   "outputs": [],
   "source": [
    "print(re.findall(r'^Hello','World! Hello'))\n",
    "#find for me the hello that is at the beginning of the substring"
   ]
  },
  {
   "cell_type": "code",
   "execution_count": null,
   "id": "d24d4d55",
   "metadata": {},
   "outputs": [],
   "source": [
    "print(re.findall(r'$world','Hello! world'))\n",
    "#find for me the world that is at the end of the substring"
   ]
  },
  {
   "cell_type": "code",
   "execution_count": null,
   "id": "2ff74a01",
   "metadata": {},
   "outputs": [
    {
     "name": "stdout",
     "output_type": "stream",
     "text": [
      "['cat']\n"
     ]
    }
   ],
   "source": [
    "print(re.findall(r'\\bcat\\b', 'This is a cat in a catalog'))\n",
    "# Only matches cat not catalog"
   ]
  },
  {
   "cell_type": "markdown",
   "id": "01a33054",
   "metadata": {},
   "source": [
    "### Exercise"
   ]
  },
  {
   "cell_type": "markdown",
   "id": "59d3b063",
   "metadata": {},
   "source": [
    "Write a python program to check that a string contains a certain set of characters (in this case a-z, A-Z, 0-9)"
   ]
  },
  {
   "cell_type": "code",
   "execution_count": null,
   "id": "4101f3af",
   "metadata": {},
   "outputs": [],
   "source": [
    "text = input(\"Enter password\")\n",
    "pattern = r'^[a-zA-Z0-9]+$'\n",
    "match = re.fullmatch(text, pattern)\n",
    "if match:\n",
    "    print(\"Strong password\")\n",
    "else:\n",
    "    print('Weak password')"
   ]
  }
 ],
 "metadata": {
  "kernelspec": {
   "display_name": "Python 3",
   "language": "python",
   "name": "python3"
  },
  "language_info": {
   "codemirror_mode": {
    "name": "ipython",
    "version": 3
   },
   "file_extension": ".py",
   "mimetype": "text/x-python",
   "name": "python",
   "nbconvert_exporter": "python",
   "pygments_lexer": "ipython3",
   "version": "3.13.3"
  }
 },
 "nbformat": 4,
 "nbformat_minor": 5
}
