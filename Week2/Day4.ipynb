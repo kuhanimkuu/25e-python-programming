{
 "cells": [
  {
   "cell_type": "markdown",
   "id": "37d3660a",
   "metadata": {},
   "source": [
    "File operations\n",
    "reading mode\n",
    "read() method ..... 'r'\n",
    "opens a file as read only mode where one can only read the content of the file"
   ]
  },
  {
   "cell_type": "code",
   "execution_count": null,
   "id": "c76286bb",
   "metadata": {},
   "outputs": [
    {
     "name": "stdout",
     "output_type": "stream",
     "text": [
      "Oh God of all creation,\n",
      "Bless this our land and nation,\n",
      "Justice be our shield and defender,\n",
      "May we dwell in unity,\n",
      "Peace and liberty,\n",
      "Blessings be found within our borders\n"
     ]
    }
   ],
   "source": [
    "# opening file \n",
    "# open() is used to open files\n",
    "anthem = open(\"anthem.txt\",'r')\n",
    "print(anthem.read()) # to display content in the file\n",
    "anthem.close() # close the file after reading it to save on memory space\n",
    " "
   ]
  },
  {
   "cell_type": "markdown",
   "id": "d0ed6032",
   "metadata": {},
   "source": [
    "with statement used with open\n",
    "It helps in closing the file automatically after reading from it\n",
    "It is a context manager"
   ]
  },
  {
   "cell_type": "code",
   "execution_count": 2,
   "id": "b99a0e21",
   "metadata": {},
   "outputs": [
    {
     "name": "stdout",
     "output_type": "stream",
     "text": [
      "Oh God of all creation,\n",
      "Bless this our land and nation,\n",
      "Justice be our shield and defender,\n",
      "May we dwell in unity,\n",
      "Peace and liberty,\n",
      "Blessings be found within our borders\n"
     ]
    }
   ],
   "source": [
    "with open(\"anthem.txt\",'r') as file:\n",
    "    context = file.read()\n",
    "    print(context) "
   ]
  },
  {
   "cell_type": "markdown",
   "id": "4326cfc4",
   "metadata": {},
   "source": [
    "Other ways apart from read() to read content from a file\n",
    "readline()\n",
    "readlines() - gives a list of the lines"
   ]
  },
  {
   "cell_type": "code",
   "execution_count": 6,
   "id": "475ee1b8",
   "metadata": {},
   "outputs": [
    {
     "name": "stdout",
     "output_type": "stream",
     "text": [
      "Oh God of all creation,\n",
      "\n",
      "Bless this our land and nation,\n",
      "\n"
     ]
    }
   ],
   "source": [
    "with open('anthem.txt','r') as file:\n",
    "    line1 = file.readline()\n",
    "    line2 = file.readline()\n",
    "    print(line1)\n",
    "    print(line2)"
   ]
  },
  {
   "cell_type": "code",
   "execution_count": 12,
   "id": "0ec39e0d",
   "metadata": {},
   "outputs": [
    {
     "name": "stdout",
     "output_type": "stream",
     "text": [
      "Oh God of all creation,\n",
      "Bless this our land and nation,\n",
      "Justice be our shield and defender,\n",
      "May we dwell in unity,\n",
      "Peace and liberty,\n",
      "Blessings be found within our borders"
     ]
    }
   ],
   "source": [
    "with open(\"anthem.txt\",'r') as file:\n",
    "    lines = file.readlines()\n",
    "    for line in lines:\n",
    "       print(line, end='')\n",
    "        #sentence = ' '.join(lines)\n",
    "    #print(sentence)"
   ]
  },
  {
   "cell_type": "markdown",
   "id": "a68611dc",
   "metadata": {},
   "source": [
    "Writing operations in Python\n",
    "1. write() method ..... 'w'\n",
    "if file exists it will ovewrite all content\n",
    "if file doesn't exist it will create a new file\n",
    "\n",
    "2. read and write() method ..... 'r+'\n",
    "Opens file reads it and you can write to it\n",
    "It only works on existing files\n",
    "It still overwrites the content\n",
    "\n",
    "3. write and read() method ..... 'w+'\n",
    "Creates file if it doesn't exist it will create\n",
    "Overwrites everything\n",
    "\n",
    "4. append() method ..... 'a'\n",
    "Used to add content to a file without overwriting previous content\n",
    "\n",
    "5. append and read() method ..... 'a+'\n",
    "appends and reads the file\n",
    "Cursor stands at the end  of the text\n",
    ".seek() method is used to specify from where python should start reading from\n",
    "\n",
    "6. writelines() method ..... ''\n",
    "used to write lists quickly to a file"
   ]
  },
  {
   "cell_type": "code",
   "execution_count": 14,
   "id": "8cc32be9",
   "metadata": {},
   "outputs": [],
   "source": [
    "with open('anthem2.txt','w') as file:\n",
    "    file.write(\"May we dwell in unity, peace and liberty\")"
   ]
  },
  {
   "cell_type": "code",
   "execution_count": 17,
   "id": "80afc046",
   "metadata": {},
   "outputs": [],
   "source": [
    "with open('anthem2.txt','r+') as file:\n",
    "    file.write(\"Plenty be found within our borders\")"
   ]
  },
  {
   "cell_type": "code",
   "execution_count": 18,
   "id": "dd6d03ee",
   "metadata": {},
   "outputs": [],
   "source": [
    "with open('anthem.txt','w+') as file:\n",
    "    file.write(\"Hey there\")"
   ]
  },
  {
   "cell_type": "code",
   "execution_count": null,
   "id": "9074e141",
   "metadata": {},
   "outputs": [],
   "source": [
    "with open('anthem.txt','a') as file:\n",
    "    file.write(\"Let one and all arise\", )"
   ]
  },
  {
   "cell_type": "code",
   "execution_count": 23,
   "id": "4a198c15",
   "metadata": {},
   "outputs": [
    {
     "name": "stdout",
     "output_type": "stream",
     "text": [
      "hereLet one and all ariseWith hearts both strong and truthWith hearts both strong and truth\n"
     ]
    }
   ],
   "source": [
    "with open('anthem.txt','a+') as file:\n",
    "    file.write(\"With hearts both strong and truth\")\n",
    "    file.seek(5)\n",
    "    print(file.read())"
   ]
  },
  {
   "cell_type": "code",
   "execution_count": 28,
   "id": "5943828b",
   "metadata": {},
   "outputs": [],
   "source": [
    "#\\n means new line\n",
    "names = ['David\\n','Kuhani\\n', 'Michael\\n','Lawrence\\n']\n",
    "with open('names.txt','w') as file:\n",
    "    file.writelines(names)"
   ]
  },
  {
   "cell_type": "markdown",
   "id": "481c9e1f",
   "metadata": {},
   "source": [
    "Copying content from one file to another"
   ]
  },
  {
   "cell_type": "code",
   "execution_count": 29,
   "id": "3859f332",
   "metadata": {},
   "outputs": [],
   "source": [
    "with open('names.txt','r') as source_file:\n",
    "    content = source_file.read()\n",
    "with open('names_backup.txt','w') as backup_file:\n",
    "    backup_file.write(content)"
   ]
  },
  {
   "cell_type": "markdown",
   "id": "1e2a64d4",
   "metadata": {},
   "source": [
    "challenge question\n",
    "write a program that prompts the user to write their 3 favourite songs and write the into a text file\n",
    "\n"
   ]
  },
  {
   "cell_type": "code",
   "execution_count": 1,
   "id": "605ff460",
   "metadata": {},
   "outputs": [],
   "source": [
    "songs =[]\n",
    "counter = 0\n",
    "while counter < 3:\n",
    "    counter+=1\n",
    "    song = str(input(\"What is your favourite song? \"))\n",
    "    songs.append(f'{song}\\n')\n",
    "with open('fav_songs.txt','w') as file:\n",
    "    file.writelines(songs)\n"
   ]
  }
 ],
 "metadata": {
  "kernelspec": {
   "display_name": "Python 3",
   "language": "python",
   "name": "python3"
  },
  "language_info": {
   "codemirror_mode": {
    "name": "ipython",
    "version": 3
   },
   "file_extension": ".py",
   "mimetype": "text/x-python",
   "name": "python",
   "nbconvert_exporter": "python",
   "pygments_lexer": "ipython3",
   "version": "3.13.3"
  }
 },
 "nbformat": 4,
 "nbformat_minor": 5
}
