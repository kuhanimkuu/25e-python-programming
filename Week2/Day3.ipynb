{
 "cells": [
  {
   "cell_type": "markdown",
   "id": "2e22c683",
   "metadata": {},
   "source": [
    "### Dictionary and Sets"
   ]
  },
  {
   "cell_type": "markdown",
   "id": "5b6e38d0",
   "metadata": {},
   "source": [
    "Write a Python program to sum up all the items in a dictionary."
   ]
  },
  {
   "cell_type": "code",
   "execution_count": null,
   "id": "27cce16e",
   "metadata": {},
   "outputs": [],
   "source": [
    "my_dict = dict()\n",
    "sum = 0\n",
    "for k,v in my_dict:\n",
    "    sum = sum+v\n",
    "print(sum)"
   ]
  },
  {
   "cell_type": "markdown",
   "id": "0ae27107",
   "metadata": {},
   "source": [
    "Create a dictionary to store product information (name, price, quantity). Allow users to add, update, and remove items from the inventory."
   ]
  },
  {
   "cell_type": "code",
   "execution_count": 23,
   "id": "fae82d42",
   "metadata": {},
   "outputs": [
    {
     "name": "stdout",
     "output_type": "stream",
     "text": [
      "{}\n",
      "Action not recognized\n",
      "{}\n",
      "Action not recognized\n",
      "{}\n"
     ]
    }
   ],
   "source": [
    "product_info = dict()\n",
    "def add_products():\n",
    "    product_name = str(input(\"Enter product name: \"))\n",
    "    product_price = str(input(\"Enter product price: \"))\n",
    "    product_quantity = int(input(\"Enter product quantity: \"))\n",
    "    product_info[f'{product_name}'] = {}\n",
    "    product_info[f'{product_name}']['price'] = product_price\n",
    "    product_info[f'{product_name}']['quantity'] = product_quantity\n",
    "def update_products():\n",
    "    product_name = str(input(\"Enter product name: \"))\n",
    "    product_price = str(input(\"Enter product price: \"))\n",
    "    product_quantity = int(input(\"Enter product quantity: \"))\n",
    "    product_info[f'{product_name}']['price'] = product_price\n",
    "    product_info[f'{product_name}']['quantity'] = product_quantity\n",
    "def remove_product():\n",
    "     product_name = str(input(\"Enter product name: \"))\n",
    "     del product_info[f'{product_name}']\n",
    "while True:\n",
    "    action = str(input('What do you want to do to the inventory(view,add,delete,update, exit)?'))\n",
    "    if action =='view':\n",
    "        print(product_info)\n",
    "    if action == \"add\":\n",
    "        add_products()\n",
    "    elif action == \"update\":\n",
    "        update_products()\n",
    "    elif action == \"delete\":\n",
    "        remove_product()\n",
    "    elif action == \"quit\":\n",
    "        print(product_info)\n",
    "        break\n",
    "    else:\n",
    "        print(\"Action not recognized\")\n"
   ]
  },
  {
   "cell_type": "markdown",
   "id": "95615fbe",
   "metadata": {},
   "source": [
    "Create a dictionary where keys are departments in a company and values are nested dictionaries containing employee information (name, role)."
   ]
  },
  {
   "cell_type": "code",
   "execution_count": null,
   "id": "ef039536",
   "metadata": {},
   "outputs": [],
   "source": [
    "company ={\n",
    "    \"Human resource\":{\n",
    "      'Jason Patel':'HR manager',\n",
    "      \"Karen O'Neil\":'Recruiter',\n",
    "      'Leo Turner': 'HR Coordinator'\n",
    "    },\n",
    "    \"Sales and Marketing\":{\n",
    "        'Frank Smith':'Sales Manager',\n",
    "        'Grace Lee': 'Digital Marketing Specialist',\n",
    "        'Henry Adams':'Sales Representative',\n",
    "        'Ivy Wang':'Content Writer'\n",
    "    },\n",
    "    \"Engineering\":{\n",
    "        'Alice Johnson':'Software Engineer',\n",
    "        'Brian Lee': 'DevOps Engineer',\n",
    "        'Cindy Park':'QA Engineer',\n",
    "        'Daniel Kim': 'Front-End Developer',\n",
    "        'Emma Garcia':'Back-End Developer'\n",
    "    },\n",
    "    \"Finance\":{\n",
    "        'Maria Lopez':'Chied Financial Officer',\n",
    "        'Nathan Young':'Accountant',\n",
    "        'Olivia Chen':'Payroll Specialist'\n",
    "\n",
    "    },\n",
    "    \"Customer Support\":{\n",
    "        'Paul Rivera':'Customer Support Lead',\n",
    "        'Quinn Baker': 'Support Agent',\n",
    "        'Rachel Stein':'Technical Support Rep'\n",
    "\n",
    "    }\n",
    "\n",
    "\n",
    "\n",
    "\n",
    "\n",
    "}"
   ]
  },
  {
   "cell_type": "markdown",
   "id": "7d81d9d0",
   "metadata": {},
   "source": [
    "\n",
    "\n",
    "Write a function to create a new set that contains the identical items from two given sets.\n",
    "\n",
    "    Return the identical elements in the two given sets.\n",
    "    For inputs with sets {1, 2, 3, 4} and {3, 4, 5, 6}, the return value should be either {3, 4} or {4, 3}.\n",
    "\n"
   ]
  },
  {
   "cell_type": "code",
   "execution_count": 25,
   "id": "bf2f9c88",
   "metadata": {},
   "outputs": [
    {
     "name": "stdout",
     "output_type": "stream",
     "text": [
      "{3, 4}\n"
     ]
    }
   ],
   "source": [
    "set1 = {1, 2, 3, 4}\n",
    "set2 = {3, 4, 5, 6}\n",
    "set3 = set1.intersection(set2)\n",
    "print(set3)"
   ]
  }
 ],
 "metadata": {
  "kernelspec": {
   "display_name": "Python 3",
   "language": "python",
   "name": "python3"
  },
  "language_info": {
   "codemirror_mode": {
    "name": "ipython",
    "version": 3
   },
   "file_extension": ".py",
   "mimetype": "text/x-python",
   "name": "python",
   "nbconvert_exporter": "python",
   "pygments_lexer": "ipython3",
   "version": "3.13.3"
  }
 },
 "nbformat": 4,
 "nbformat_minor": 5
}
