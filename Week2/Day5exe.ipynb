{
 "cells": [
  {
   "cell_type": "markdown",
   "id": "99b6f77d",
   "metadata": {},
   "source": [
    "Write a Python program to check that a string contains only a certain set of characters (in this case a-z, A-Z and 0-9)."
   ]
  },
  {
   "cell_type": "code",
   "execution_count": null,
   "id": "2bf144d0",
   "metadata": {},
   "outputs": [],
   "source": [
    "import re\n",
    "\n",
    "def is_valid_string(s):\n",
    "   \n",
    "    pattern = re.compile(r'^[a-zA-Z0-9]+$')\n",
    "    return bool(pattern.match(s))"
   ]
  },
  {
   "cell_type": "markdown",
   "id": "bb050ff7",
   "metadata": {},
   "source": [
    "Write a Python program that matches a string that has an ‘a’ followed by anything, ending in ‘b’."
   ]
  },
  {
   "cell_type": "code",
   "execution_count": null,
   "id": "c96ab379",
   "metadata": {},
   "outputs": [],
   "source": [
    "import re\n",
    "test_string = str(input(\"Enter string: \"))\n",
    "\n",
    "pattern = r'^a.*b$'\n",
    "for s in test_string:\n",
    "    if re.match(pattern, s):\n",
    "        print(f\"'{s}' matches the pattern.\")\n",
    "    else:\n",
    "        print(f\"'{s}' does NOT match the pattern.\")"
   ]
  },
  {
   "cell_type": "markdown",
   "id": "098d4f91",
   "metadata": {},
   "source": [
    "Write a program that uses regex to validate user input. Examples:\n",
    "\n",
    "    Check if a password meets certain criteria (e.g., minimum length, containing uppercase and lowercase letters).\n",
    "    Validate a date format (e.g., DD/MM/YYYY).\n",
    "\n"
   ]
  },
  {
   "cell_type": "code",
   "execution_count": null,
   "id": "ec549713",
   "metadata": {},
   "outputs": [
    {
     "name": "stdout",
     "output_type": "stream",
     "text": [
      "Password Validation:\n",
      "Pass1234: Valid\n",
      "pass1234: Invalid\n",
      "PASSWORD: Invalid\n",
      "Pa1: Invalid\n",
      "Pa$$w0rd: Valid\n",
      "\n",
      "Date Validation:\n",
      "01/01/2024: Valid\n",
      "31/12/1999: Valid\n",
      "32/01/2020: Invalid\n",
      "12-05-2020: Invalid\n",
      "15/13/2022: Invalid\n"
     ]
    }
   ],
   "source": [
    "import re\n",
    "\n",
    "def validate_password(password):\n",
    "    pattern = r'^(?=.*[a-z])(?=.*[A-Z])(?=.*\\d).{8,}$'\n",
    "    return bool(re.match(pattern, password))\n",
    "def validate_date(date):\n",
    "    pattern = r'^(0[1-9]|[12][0-9]|3[01])/(0[1-9]|1[0-2])/\\d{4}$'\n",
    "    return bool(re.match(pattern, date))\n",
    "passwords = [\"Pass1234\", \"pass1234\", \"PASSWORD\", \"Pa1\", \"Pa$$w0rd\"]\n",
    "print(\"Password Validation:\")\n",
    "for pwd in passwords:\n",
    "    print(f\"{pwd}: {'Valid' if validate_password(pwd) else 'Invalid'}\")\n",
    "\n",
    "print(\"\\nDate Validation:\")\n",
    "\n",
    "\n",
    "dates = [\"01/01/2024\", \"31/12/1999\", \"32/01/2020\", \"12-05-2020\", \"15/13/2022\"]\n",
    "for d in dates:\n",
    "    print(f\"{d}: {'Valid' if validate_date(d) else 'Invalid'}\")"
   ]
  },
  {
   "cell_type": "markdown",
   "id": "1562940b",
   "metadata": {},
   "source": [
    "Write a program that uses regex to extract specific information from a string. Examples:\n",
    "\n",
    "    Extract email addresses: Find all strings containing “@” and a dot (.).\n",
    "    Extract phone numbers: Find all strings with a specific format (e.g., XXX-XXX-XXXX).\n",
    "\n"
   ]
  },
  {
   "cell_type": "code",
   "execution_count": null,
   "id": "7c711809",
   "metadata": {},
   "outputs": [],
   "source": [
    "import re\n",
    "text = str(input(\"Enter text: \"))\n",
    "email_pattern = r'[\\w\\.-]+@[\\w\\.-]+\\.\\w+'\n",
    "phone_pattern = r'\\b\\d{3}-\\d{3}-\\d{4}\\b'\n",
    "\n",
    "\n",
    "emails = re.findall(email_pattern, text)\n",
    "\n",
    "\n",
    "phones = re.findall(phone_pattern, text)\n",
    "\n",
    "\n",
    "print(\"Extracted Email Addresses:\")\n",
    "for email in emails:\n",
    "    print(f\" - {email}\")\n",
    "\n",
    "print(\"\\nExtracted Phone Numbers:\")\n",
    "for phone in phones:\n",
    "    print(f\" - {phone}\")"
   ]
  },
  {
   "cell_type": "markdown",
   "id": "c41dcc70",
   "metadata": {},
   "source": [
    "Write a program that uses regex to search for and replace text in a string. Example:\n",
    "\n",
    "    Replace all occurrences of “Mr.” with “Ms.”: text.replace(r”Mr.”, “Ms.”) (r prefix for raw string)\n",
    "\n"
   ]
  },
  {
   "cell_type": "code",
   "execution_count": null,
   "id": "33749044",
   "metadata": {},
   "outputs": [],
   "source": [
    "import re\n",
    "text = str(input(\"Enter text: \"))\n",
    "updated_text = re.sub(r'\\bMr\\.', 'Ms.', text)\n",
    "\n",
    "print(\"Original Text:\")\n",
    "print(text)\n",
    "print(\"\\nUpdated Text:\")\n",
    "print(updated_text)"
   ]
  }
 ],
 "metadata": {
  "kernelspec": {
   "display_name": "Python 3",
   "language": "python",
   "name": "python3"
  },
  "language_info": {
   "codemirror_mode": {
    "name": "ipython",
    "version": 3
   },
   "file_extension": ".py",
   "mimetype": "text/x-python",
   "name": "python",
   "nbconvert_exporter": "python",
   "pygments_lexer": "ipython3",
   "version": "3.13.3"
  }
 },
 "nbformat": 4,
 "nbformat_minor": 5
}
