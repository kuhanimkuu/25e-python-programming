{
 "cells": [
  {
   "cell_type": "markdown",
   "id": "203f54b0",
   "metadata": {},
   "source": [
    "Build a Python Script for the Popular Hangman Game\n",
    "\n",
    "In this project you will create a python project implementing the hangman game enabling the player to attempt guessing a hidden word. If you are not farmiliar with the game, check out the graphical online game here.\n",
    "\n",
    "In summary the user has attempts at guessing a word represented in a row of dashes and if a player guesses a letter which exists in the word, the program writes it in all correct positions, these attempts are reduced for every wrong character guess the player makes, once all are exhausted, without a matching word having been guessed, the monster eats up the player.\n",
    "Here are the steps to follow:\n",
    "\n",
    "    Choose some good hangman words for your program. You can go to this website and create a list of words for your game.\n",
    "    At the start of the game, use the random library to choose a random word from your hangman words and display the word's letters as dashes rather than letters.\n",
    "    Now, apply the input function to allow the user to make letter guesses. Use try... except and if statements to make sure that only valid inputs work with your script i.e. a user can only choose one letter at a time, and a user cannot choose letters that have been chosen before.\n",
    "    If the letter is in the word then it is printed in place of the corresponding dash. If the letter is not in the word, that is counted as a failed attempt, Limit the number of failed attempts for the user to 6 such that on the 6th fail, the game ends and the script prints the actual word and \"You Lost\". Make sure to tell the user they won if they guess all the correct letters in under 6 failed attempts.\n",
    "    If you want to take the project a notch higher, you can use the Python Turtle Library to visualize the hanging like in this website. This is optional!\n"
   ]
  },
  {
   "cell_type": "code",
   "execution_count": null,
   "id": "b62b28a3",
   "metadata": {},
   "outputs": [
    {
     "name": "stdout",
     "output_type": "stream",
     "text": [
      "Welcome to Hangman!\n",
      "Guess the word before the monster eats you!\n",
      "_ _ _ _ _ _ _ _\n",
      " Good guess!\n",
      "\n",
      "Word: _ a _ _ a _ _ _\n",
      " Wrong guess! Attempts left: 5\n",
      "\n",
      "Word: _ a _ _ a _ _ _\n",
      " Wrong guess! Attempts left: 4\n",
      "\n",
      "Word: _ a _ _ a _ _ _\n",
      " Good guess!\n",
      "\n",
      "Word: _ a _ _ a _ _ e\n",
      " Good guess!\n",
      "\n",
      "Word: _ a r _ a _ _ e\n"
     ]
    }
   ],
   "source": [
    "import random\n",
    "import re\n",
    "\n",
    "# List of hangman words (you can expand this list)\n",
    "hangman_words = ['python', 'developer', 'hangman', 'challenge', 'programming', 'keyboard', 'function', 'variable']\n",
    "\n",
    "def choose_word(words):\n",
    "    return random.choice(words)\n",
    "\n",
    "def display_word(word, guessed_letters):\n",
    "    return ' '.join([letter if letter in guessed_letters else '_' for letter in word])\n",
    "\n",
    "def hangman():\n",
    "    word = choose_word(hangman_words)\n",
    "    guessed_letters = set()\n",
    "    attempts = 6\n",
    "    failed_attempts = 0\n",
    "\n",
    "    print(\"Welcome to Hangman!\")\n",
    "    print(\"Guess the word before the monster eats you!\")\n",
    "    print(display_word(word, guessed_letters))\n",
    "\n",
    "    while failed_attempts < attempts:\n",
    "        guess = input(\"\\nGuess a letter: \").lower()\n",
    "\n",
    "        # Validate using regex: must be a single a-z letter\n",
    "        if not re.fullmatch(r'[a-z]', guess):\n",
    "            print(\"Invalid input. Please enter a single alphabetical letter (a-z).\")\n",
    "            continue\n",
    "\n",
    "        if guess in guessed_letters:\n",
    "            print(\" You've already guessed that letter. Try another.\")\n",
    "            continue\n",
    "\n",
    "        guessed_letters.add(guess)\n",
    "\n",
    "        if guess in word:\n",
    "            print(\" Good guess!\")\n",
    "        else:\n",
    "            failed_attempts += 1\n",
    "            print(f\" Wrong guess! Attempts left: {attempts - failed_attempts}\")\n",
    "\n",
    "        current_display = display_word(word, guessed_letters)\n",
    "        print(\"\\nWord:\", current_display)\n",
    "\n",
    "        if '_' not in current_display.replace(' ', ''):\n",
    "            print(\"\\nCongratulations! You guessed the word correctly!\")\n",
    "            break\n",
    "\n",
    "    else:\n",
    "        print(f\"\\n You lost! The word was '{word}'.\")\n",
    "\n",
    "# Run the game\n",
    "if __name__ == \"__main__\":\n",
    "    hangman()\n",
    "\n",
    "\n",
    "\n",
    "\n"
   ]
  },
  {
   "cell_type": "code",
   "execution_count": null,
   "id": "bd1fe1c9",
   "metadata": {},
   "outputs": [],
   "source": []
  }
 ],
 "metadata": {
  "kernelspec": {
   "display_name": "Python 3",
   "language": "python",
   "name": "python3"
  },
  "language_info": {
   "codemirror_mode": {
    "name": "ipython",
    "version": 3
   },
   "file_extension": ".py",
   "mimetype": "text/x-python",
   "name": "python",
   "nbconvert_exporter": "python",
   "pygments_lexer": "ipython3",
   "version": "3.13.3"
  }
 },
 "nbformat": 4,
 "nbformat_minor": 5
}
