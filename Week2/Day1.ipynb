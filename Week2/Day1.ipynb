{
 "cells": [
  {
   "cell_type": "markdown",
   "id": "0c5126a1",
   "metadata": {},
   "source": [
    "### String and file handling"
   ]
  },
  {
   "cell_type": "markdown",
   "id": "45dadab3",
   "metadata": {},
   "source": [
    "Write a program that takes a sentence and then prints the number of words in that sentence"
   ]
  },
  {
   "cell_type": "code",
   "execution_count": 10,
   "id": "d21c87fb",
   "metadata": {},
   "outputs": [
    {
     "name": "stdout",
     "output_type": "stream",
     "text": [
      "6\n"
     ]
    }
   ],
   "source": [
    "sentence = str(input(\"Enter sentence here: \"))\n",
    "count = sentence.count(\" \")\n",
    "words = count+1\n",
    "print(words)\n"
   ]
  },
  {
   "cell_type": "markdown",
   "id": "d249adcd",
   "metadata": {},
   "source": [
    "Create a program that checks if two given strings are anagrams of each other."
   ]
  },
  {
   "cell_type": "code",
   "execution_count": 26,
   "id": "e299999c",
   "metadata": {},
   "outputs": [
    {
     "name": "stdout",
     "output_type": "stream",
     "text": [
      "anagram\n",
      "anagram\n",
      "anagram\n"
     ]
    }
   ],
   "source": [
    "string_1 = str(input(\"Enter first string: \"))\n",
    "string_2 = str(input(\"Enter second string: \"))\n",
    "string_1 = string_1.lower()\n",
    "string_2 = string_2.lower()\n",
    "\n",
    "if len(string_1) == len(string_2):\n",
    "    for i in string_1:\n",
    "        checker = i in string_2\n",
    "        if checker == False:\n",
    "            print(\"Not anagram\")\n",
    "            break\n",
    "        else:\n",
    "            print(\"anagram\")\n",
    "            continue\n",
    "else:\n",
    "    print(\"Not matching length\")\n"
   ]
  },
  {
   "cell_type": "markdown",
   "id": "cb87def6",
   "metadata": {},
   "source": [
    "Write a program that takes a string as input from the user and checks if it’s a palindrome (reads the same backward as forward). Ignore case sensitivity and punctuation."
   ]
  },
  {
   "cell_type": "code",
   "execution_count": 1,
   "id": "72535a7d",
   "metadata": {},
   "outputs": [
    {
     "name": "stdout",
     "output_type": "stream",
     "text": [
      "boob is a palindrome\n"
     ]
    }
   ],
   "source": [
    "sentence = str(input(\"Enter words: \"))\n",
    "sentence_length = len(sentence)\n",
    "i = 0\n",
    "count = 0\n",
    "while i < sentence_length:\n",
    "    i+=1\n",
    "    if sentence[::1] == sentence[::-1]:\n",
    "       count+=1\n",
    "    else: \n",
    "        break\n",
    "if count == sentence_length:\n",
    "    print(f'{sentence} is a palindrome')\n",
    "else:\n",
    "    print(f\"{sentence} isn't a palindrome\")\n",
    "    \n",
    "\n"
   ]
  },
  {
   "cell_type": "markdown",
   "id": "77cd1a06",
   "metadata": {},
   "source": [
    "Write a program that opens an existing text file, reads its contents, and creates a new file with a different name, writing the copied content to the new file."
   ]
  },
  {
   "cell_type": "code",
   "execution_count": 43,
   "id": "71dacdd7",
   "metadata": {},
   "outputs": [],
   "source": [
    "try:\n",
    "    with open('existing.txt','r') as file:\n",
    "        content = file.read()\n",
    "except:\n",
    "    print(\"File doesn't exist\")\n",
    "with open('copy.txt','w') as file:\n",
    "    file.write(content)"
   ]
  },
  {
   "cell_type": "markdown",
   "id": "c2662c85",
   "metadata": {},
   "source": [
    "Write a program that opens a text file and iterates through each line using a for loop, printing each line separately."
   ]
  },
  {
   "cell_type": "code",
   "execution_count": 55,
   "id": "daeb45ab",
   "metadata": {},
   "outputs": [
    {
     "name": "stdout",
     "output_type": "stream",
     "text": [
      "Ee Mungu nguvu yetu,\n",
      "Ilete baraka kwetu,\n",
      "Haki iwe ngao na mlinzi,\n",
      "Natukae na udugu,\n",
      "Amani na uhuru,\n",
      "Raha tupate na ustawi.\n",
      "\n",
      "Amkeni ndugu zetu,\n",
      "Tufanye sote bidii,\n",
      "Nasi tujitoe kwa nguvu,\n",
      "Nchi yetu ya,\n",
      "Kenya tunayoipenda,\n",
      "Tuwe tayari kuilinda.\n",
      "\n",
      "Natujenge taifa letu,\n",
      "Ee ndio wajibu wetu,\n",
      "Kenya istahili heshima,\n",
      "Tuungane mikono pamoja kazini,\n",
      "Kila siku tuwe nashukrani.\n"
     ]
    }
   ],
   "source": [
    "with open(\"anthem.txt\",'r') as file:\n",
    "    lines = file.readlines()\n",
    "    for line in lines:\n",
    "       print(line, end='')"
   ]
  }
 ],
 "metadata": {
  "kernelspec": {
   "display_name": "Python 3",
   "language": "python",
   "name": "python3"
  },
  "language_info": {
   "codemirror_mode": {
    "name": "ipython",
    "version": 3
   },
   "file_extension": ".py",
   "mimetype": "text/x-python",
   "name": "python",
   "nbconvert_exporter": "python",
   "pygments_lexer": "ipython3",
   "version": "3.13.3"
  }
 },
 "nbformat": 4,
 "nbformat_minor": 5
}
